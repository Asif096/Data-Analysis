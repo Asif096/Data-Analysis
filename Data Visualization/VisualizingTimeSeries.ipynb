{
 "cells": [
  {
   "cell_type": "code",
   "execution_count": 20,
   "metadata": {},
   "outputs": [],
   "source": [
    "import numpy as np\n",
    "from numpy.random import randn\n",
    "import pandas as pd\n",
    "from pandas import Series, DataFrame\n",
    "\n",
    "import matplotlib.pyplot as plt\n",
    "from matplotlib import rcParams"
   ]
  },
  {
   "cell_type": "code",
   "execution_count": 21,
   "metadata": {},
   "outputs": [],
   "source": [
    "%matplotlib inline\n",
    "rcParams['figure.figsize'] = 5,4"
   ]
  },
  {
   "cell_type": "code",
   "execution_count": 40,
   "metadata": {},
   "outputs": [
    {
     "data": {
      "text/html": [
       "<div>\n",
       "<style scoped>\n",
       "    .dataframe tbody tr th:only-of-type {\n",
       "        vertical-align: middle;\n",
       "    }\n",
       "\n",
       "    .dataframe tbody tr th {\n",
       "        vertical-align: top;\n",
       "    }\n",
       "\n",
       "    .dataframe thead th {\n",
       "        text-align: right;\n",
       "    }\n",
       "</style>\n",
       "<table border=\"1\" class=\"dataframe\">\n",
       "  <thead>\n",
       "    <tr style=\"text-align: right;\">\n",
       "      <th></th>\n",
       "      <th>Row ID</th>\n",
       "      <th>Order ID</th>\n",
       "      <th>Order Priority</th>\n",
       "      <th>Order Quantity</th>\n",
       "      <th>Sales</th>\n",
       "      <th>Discount</th>\n",
       "      <th>Ship Mode</th>\n",
       "      <th>Profit</th>\n",
       "      <th>Unit Price</th>\n",
       "      <th>Shipping Cost</th>\n",
       "      <th>Customer Name</th>\n",
       "      <th>Province</th>\n",
       "      <th>Region</th>\n",
       "      <th>Customer Segment</th>\n",
       "      <th>Product Category</th>\n",
       "      <th>Product Sub-Category</th>\n",
       "      <th>Product Name</th>\n",
       "      <th>Product Container</th>\n",
       "      <th>Product Base Margin</th>\n",
       "      <th>Ship Date</th>\n",
       "    </tr>\n",
       "    <tr>\n",
       "      <th>Order Date</th>\n",
       "      <th></th>\n",
       "      <th></th>\n",
       "      <th></th>\n",
       "      <th></th>\n",
       "      <th></th>\n",
       "      <th></th>\n",
       "      <th></th>\n",
       "      <th></th>\n",
       "      <th></th>\n",
       "      <th></th>\n",
       "      <th></th>\n",
       "      <th></th>\n",
       "      <th></th>\n",
       "      <th></th>\n",
       "      <th></th>\n",
       "      <th></th>\n",
       "      <th></th>\n",
       "      <th></th>\n",
       "      <th></th>\n",
       "      <th></th>\n",
       "    </tr>\n",
       "  </thead>\n",
       "  <tbody>\n",
       "    <tr>\n",
       "      <td>2010-10-13</td>\n",
       "      <td>1</td>\n",
       "      <td>3</td>\n",
       "      <td>Low</td>\n",
       "      <td>6</td>\n",
       "      <td>261.5400</td>\n",
       "      <td>0.04</td>\n",
       "      <td>Regular Air</td>\n",
       "      <td>-213.25</td>\n",
       "      <td>38.94</td>\n",
       "      <td>35.00</td>\n",
       "      <td>Muhammed MacIntyre</td>\n",
       "      <td>Nunavut</td>\n",
       "      <td>Nunavut</td>\n",
       "      <td>Small Business</td>\n",
       "      <td>Office Supplies</td>\n",
       "      <td>Storage &amp; Organization</td>\n",
       "      <td>Eldon Base for stackable storage shelf, platinum</td>\n",
       "      <td>Large Box</td>\n",
       "      <td>0.80</td>\n",
       "      <td>10/20/2010</td>\n",
       "    </tr>\n",
       "    <tr>\n",
       "      <td>2012-10-01</td>\n",
       "      <td>49</td>\n",
       "      <td>293</td>\n",
       "      <td>High</td>\n",
       "      <td>49</td>\n",
       "      <td>10123.0200</td>\n",
       "      <td>0.07</td>\n",
       "      <td>Delivery Truck</td>\n",
       "      <td>457.81</td>\n",
       "      <td>208.16</td>\n",
       "      <td>68.02</td>\n",
       "      <td>Barry French</td>\n",
       "      <td>Nunavut</td>\n",
       "      <td>Nunavut</td>\n",
       "      <td>Consumer</td>\n",
       "      <td>Office Supplies</td>\n",
       "      <td>Appliances</td>\n",
       "      <td>1.7 Cubic Foot Compact \"Cube\" Office Refrigera...</td>\n",
       "      <td>Jumbo Drum</td>\n",
       "      <td>0.58</td>\n",
       "      <td>10/2/2012</td>\n",
       "    </tr>\n",
       "    <tr>\n",
       "      <td>2012-10-01</td>\n",
       "      <td>50</td>\n",
       "      <td>293</td>\n",
       "      <td>High</td>\n",
       "      <td>27</td>\n",
       "      <td>244.5700</td>\n",
       "      <td>0.01</td>\n",
       "      <td>Regular Air</td>\n",
       "      <td>46.71</td>\n",
       "      <td>8.69</td>\n",
       "      <td>2.99</td>\n",
       "      <td>Barry French</td>\n",
       "      <td>Nunavut</td>\n",
       "      <td>Nunavut</td>\n",
       "      <td>Consumer</td>\n",
       "      <td>Office Supplies</td>\n",
       "      <td>Binders and Binder Accessories</td>\n",
       "      <td>Cardinal Slant-D® Ring Binder, Heavy Gauge Vinyl</td>\n",
       "      <td>Small Box</td>\n",
       "      <td>0.39</td>\n",
       "      <td>10/3/2012</td>\n",
       "    </tr>\n",
       "    <tr>\n",
       "      <td>2011-07-10</td>\n",
       "      <td>80</td>\n",
       "      <td>483</td>\n",
       "      <td>High</td>\n",
       "      <td>30</td>\n",
       "      <td>4965.7595</td>\n",
       "      <td>0.08</td>\n",
       "      <td>Regular Air</td>\n",
       "      <td>1198.97</td>\n",
       "      <td>195.99</td>\n",
       "      <td>3.99</td>\n",
       "      <td>Clay Rozendal</td>\n",
       "      <td>Nunavut</td>\n",
       "      <td>Nunavut</td>\n",
       "      <td>Corporate</td>\n",
       "      <td>Technology</td>\n",
       "      <td>Telephones and Communication</td>\n",
       "      <td>R380</td>\n",
       "      <td>Small Box</td>\n",
       "      <td>0.58</td>\n",
       "      <td>7/12/2011</td>\n",
       "    </tr>\n",
       "    <tr>\n",
       "      <td>2010-08-28</td>\n",
       "      <td>85</td>\n",
       "      <td>515</td>\n",
       "      <td>Not Specified</td>\n",
       "      <td>19</td>\n",
       "      <td>394.2700</td>\n",
       "      <td>0.08</td>\n",
       "      <td>Regular Air</td>\n",
       "      <td>30.94</td>\n",
       "      <td>21.78</td>\n",
       "      <td>5.94</td>\n",
       "      <td>Carlos Soltero</td>\n",
       "      <td>Nunavut</td>\n",
       "      <td>Nunavut</td>\n",
       "      <td>Consumer</td>\n",
       "      <td>Office Supplies</td>\n",
       "      <td>Appliances</td>\n",
       "      <td>Holmes HEPA Air Purifier</td>\n",
       "      <td>Medium Box</td>\n",
       "      <td>0.50</td>\n",
       "      <td>8/30/2010</td>\n",
       "    </tr>\n",
       "  </tbody>\n",
       "</table>\n",
       "</div>"
      ],
      "text/plain": [
       "            Row ID  Order ID Order Priority  Order Quantity       Sales  \\\n",
       "Order Date                                                                \n",
       "2010-10-13       1         3            Low               6    261.5400   \n",
       "2012-10-01      49       293           High              49  10123.0200   \n",
       "2012-10-01      50       293           High              27    244.5700   \n",
       "2011-07-10      80       483           High              30   4965.7595   \n",
       "2010-08-28      85       515  Not Specified              19    394.2700   \n",
       "\n",
       "            Discount       Ship Mode   Profit  Unit Price  Shipping Cost  \\\n",
       "Order Date                                                                 \n",
       "2010-10-13      0.04     Regular Air  -213.25       38.94          35.00   \n",
       "2012-10-01      0.07  Delivery Truck   457.81      208.16          68.02   \n",
       "2012-10-01      0.01     Regular Air    46.71        8.69           2.99   \n",
       "2011-07-10      0.08     Regular Air  1198.97      195.99           3.99   \n",
       "2010-08-28      0.08     Regular Air    30.94       21.78           5.94   \n",
       "\n",
       "                 Customer Name Province   Region Customer Segment  \\\n",
       "Order Date                                                          \n",
       "2010-10-13  Muhammed MacIntyre  Nunavut  Nunavut   Small Business   \n",
       "2012-10-01        Barry French  Nunavut  Nunavut         Consumer   \n",
       "2012-10-01        Barry French  Nunavut  Nunavut         Consumer   \n",
       "2011-07-10       Clay Rozendal  Nunavut  Nunavut        Corporate   \n",
       "2010-08-28      Carlos Soltero  Nunavut  Nunavut         Consumer   \n",
       "\n",
       "           Product Category            Product Sub-Category  \\\n",
       "Order Date                                                    \n",
       "2010-10-13  Office Supplies          Storage & Organization   \n",
       "2012-10-01  Office Supplies                      Appliances   \n",
       "2012-10-01  Office Supplies  Binders and Binder Accessories   \n",
       "2011-07-10       Technology    Telephones and Communication   \n",
       "2010-08-28  Office Supplies                      Appliances   \n",
       "\n",
       "                                                 Product Name  \\\n",
       "Order Date                                                      \n",
       "2010-10-13   Eldon Base for stackable storage shelf, platinum   \n",
       "2012-10-01  1.7 Cubic Foot Compact \"Cube\" Office Refrigera...   \n",
       "2012-10-01   Cardinal Slant-D® Ring Binder, Heavy Gauge Vinyl   \n",
       "2011-07-10                                               R380   \n",
       "2010-08-28                           Holmes HEPA Air Purifier   \n",
       "\n",
       "           Product Container  Product Base Margin   Ship Date  \n",
       "Order Date                                                     \n",
       "2010-10-13         Large Box                 0.80  10/20/2010  \n",
       "2012-10-01        Jumbo Drum                 0.58   10/2/2012  \n",
       "2012-10-01         Small Box                 0.39   10/3/2012  \n",
       "2011-07-10         Small Box                 0.58   7/12/2011  \n",
       "2010-08-28        Medium Box                 0.50   8/30/2010  "
      ]
     },
     "execution_count": 40,
     "metadata": {},
     "output_type": "execute_result"
    }
   ],
   "source": [
    "address = 'C:/Users/moham/Jupyter Practice/Exercise Files/Data\\Superstore-Sales.csv'\n",
    "df = pd.read_csv(address, index_col='Order Date', encoding='cp1252', parse_dates=True)\n",
    "df.head()"
   ]
  },
  {
   "cell_type": "code",
   "execution_count": 41,
   "metadata": {},
   "outputs": [
    {
     "data": {
      "text/plain": [
       "<matplotlib.axes._subplots.AxesSubplot at 0x23032052dc8>"
      ]
     },
     "execution_count": 41,
     "metadata": {},
     "output_type": "execute_result"
    },
    {
     "data": {
      "image/png": "[encoded data removed]",
      "text/plain": [
       "<Figure size 360x288 with 1 Axes>"
      ]
     },
     "metadata": {
      "needs_background": "light"
     },
     "output_type": "display_data"
    }
   ],
   "source": [
    "df['Order Quantity'].plot()"
   ]
  },
  {
   "cell_type": "code",
   "execution_count": 50,
   "metadata": {},
   "outputs": [
    {
     "data": {
      "text/plain": [
       "<matplotlib.axes._subplots.AxesSubplot at 0x23033b489c8>"
      ]
     },
     "execution_count": 50,
     "metadata": {},
     "output_type": "execute_result"
    },
    {
     "data": {
      "image/png": "[encoded data removed]",
      "text/plain": [
       "<Figure size 360x288 with 1 Axes>"
      ]
     },
     "metadata": {
      "needs_background": "light"
     },
     "output_type": "display_data"
    }
   ],
   "source": [
    "df2 = df.sample(n=100, random_state=25, axis=0)\n",
    "\n",
    "plt.xlabel('Order Date')\n",
    "plt.ylabel('Order Quantity')\n",
    "plt.title('Super Store Sales')\n",
    "df2['Order Quantity'].plot()"
   ]
  }
 ],
 "metadata": {
  "kernelspec": {
   "display_name": "Python 3",
   "language": "python",
   "name": "python3"
  },
  "language_info": {
   "codemirror_mode": {
    "name": "ipython",
    "version": 3
   },
   "file_extension": ".py",
   "mimetype": "text/x-python",
   "name": "python",
   "nbconvert_exporter": "python",
   "pygments_lexer": "ipython3",
   "version": "3.7.4"
  }
 },
 "nbformat": 4,
 "nbformat_minor": 2
}
